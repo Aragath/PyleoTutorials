{
 "cells": [
  {
   "cell_type": "code",
   "execution_count": null,
   "id": "6c244a35-f043-4dd0-a0ba-bc5747a7a28c",
   "metadata": {},
   "outputs": [],
   "source": [
    "<img src='https://github.com/LinkedEarth/Logos/raw/master/PYLEOCLIM_logo_HORZ-01.png' width=\"800\">\n",
    "\n",
    "# `Pyleoclim` figures with multiple panels\n",
    "\n",
    "## Authors\n",
    "\n",
    "Julien Emile-Geay, USC Earth Sciences\n",
    "\n",
    "\n",
    "Author1 = {\"name\": \"Julien Emile-Geay\", \"affiliation\": \"Department of Earth Sciences, University of Southern California\", \"email\": \"julieneg@usc.edu\", \"orcid\": \"0000-0001-5920-4751\"}\n",
    "\n",
    "## Preamble\n",
    "\n",
    "### Goals"
   ]
  },
  {
   "cell_type": "code",
   "execution_count": null,
   "id": "90aa8690-05d3-44b6-bf07-2479cfe59ddf",
   "metadata": {},
   "outputs": [],
   "source": []
  },
  {
   "cell_type": "code",
   "execution_count": null,
   "id": "6bc3849f-ddc3-4295-99f0-6bd01fc88c50",
   "metadata": {},
   "outputs": [],
   "source": []
  },
  {
   "cell_type": "code",
   "execution_count": null,
   "id": "3207d174-eef7-406c-92a0-5a67faf22e6c",
   "metadata": {},
   "outputs": [],
   "source": [
    "import numpy as np\n",
    "            import pyleoclim as pyleo\n",
    "            import matplotlib.pyplot as plt\n",
    "            from pyleoclim.utils.tsmodel import colored_noise\n",
    "\n",
    "            # create 2 incompletely sampled series\n",
    "            ns = 2 ; nt = 200; n_del = 20\n",
    "            serieslist = []\n",
    "\n",
    "            for j in range(ns):\n",
    "                t = np.arange(nt)\n",
    "                v = colored_noise(alpha=1, t=t)\n",
    "                deleted_idx = np.random.choice(range(np.size(t)), n_del, replace=False)\n",
    "                tu =  np.delete(t, deleted_idx)\n",
    "                vu =  np.delete(v, deleted_idx)\n",
    "                ts = pyleo.Series(time = tu, value = vu, label = 'series ' + str(j+1))\n",
    "                serieslist.append(ts)\n",
    "\n",
    "            # create MS object from the list\n",
    "            ms = pyleo.MultipleSeries(serieslist)\n",
    "\n",
    "            @savefig ms_common_time.png\n",
    "            fig, ax = plt.subplots(2,2,sharex=True,sharey=True, figsize=(10,8))\n",
    "            ax = ax.flatten()\n",
    "            # apply common_time with default parameters\n",
    "            msc = ms.common_time()\n",
    "            msc.plot(title='linear interpolation',ax=ax[0], legend=False)\n",
    "\n",
    "            # apply common_time with binning\n",
    "            msc = ms.common_time(method='bin')\n",
    "            msc.plot(title='Binning',ax=ax[1], legend=False)\n",
    "\n",
    "            # apply common_time with gkernel\n",
    "            msc = ms.common_time(method='gkernel')\n",
    "            msc.plot(title=r'Gaussian kernel ($h=3$)',ax=ax[2],legend=False)\n",
    "\n",
    "            # apply common_time with gkernel and a large bandwidth\n",
    "            msc = ms.common_time(method='gkernel', h=.5)\n",
    "            msc.plot(title=r'Gaussian kernel ($h=.5$)',ax=ax[3],legend=False)\n",
    "            fig.tight_layout()\n",
    "            # Optional close fig after plotting\n",
    "            pyleo.closefig(fig)"
   ]
  }
 ],
 "metadata": {
  "kernelspec": {
   "display_name": "Python [conda env:pyleo] *",
   "language": "python",
   "name": "conda-env-pyleo-py"
  },
  "language_info": {
   "codemirror_mode": {
    "name": "ipython",
    "version": 3
   },
   "file_extension": ".py",
   "mimetype": "text/x-python",
   "name": "python",
   "nbconvert_exporter": "python",
   "pygments_lexer": "ipython3",
   "version": "3.9.10"
  }
 },
 "nbformat": 4,
 "nbformat_minor": 5
}
